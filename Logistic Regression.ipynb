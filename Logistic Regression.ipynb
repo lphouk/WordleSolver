{
 "cells": [
  {
   "cell_type": "markdown",
   "id": "708f9069",
   "metadata": {},
   "source": [
    "# Logistic Regression\n",
    "\n",
    "I created a logistic regression model to try and predict whether or not the solver would correctly guess the wordle based on what the hidden word actually is. I used 2 different libraries for this: statsmodels and sklearn."
   ]
  },
  {
   "cell_type": "code",
   "execution_count": 1,
   "id": "1ab2d5b2",
   "metadata": {},
   "outputs": [],
   "source": [
    "import numpy as np\n",
    "import matplotlib.pyplot as plt\n",
    "import pandas as pd\n",
    "from imblearn.over_sampling import SMOTE\n",
    "import statsmodels.api as sm\n",
    "from scipy.stats import chi2"
   ]
  },
  {
   "cell_type": "code",
   "execution_count": 2,
   "id": "c7bac062",
   "metadata": {},
   "outputs": [],
   "source": [
    "# Import our data set\n",
    "data = pd.read_csv('wordleData.csv')"
   ]
  },
  {
   "cell_type": "markdown",
   "id": "33d55743",
   "metadata": {},
   "source": [
    "One of the glaring issues with this data set was the much greater amount of wins compared to losses in our model."
   ]
  },
  {
   "cell_type": "code",
   "execution_count": 3,
   "id": "0e5ecf21",
   "metadata": {},
   "outputs": [
    {
     "data": {
      "image/png": "[encoded data removed]",
      "text/plain": [
       "<Figure size 432x288 with 1 Axes>"
      ]
     },
     "metadata": {
      "needs_background": "light"
     },
     "output_type": "display_data"
    }
   ],
   "source": [
    "# Bar Chart\n",
    "win_count = data['WinStatus'].value_counts()\n",
    "plt.bar(win_count.index, win_count.values)\n",
    "plt.ylabel('Count')\n",
    "plt.xticks(win_count.index, ['Win', 'No Win'])\n",
    "plt.title('Bar Chart of Win Counts')\n",
    "plt.show()"
   ]
  },
  {
   "cell_type": "markdown",
   "id": "7d6e8b77",
   "metadata": {},
   "source": [
    "To address this, I used SMOTE to artifically increase the size of the minority group when building the regression model."
   ]
  },
  {
   "cell_type": "code",
   "execution_count": 4,
   "id": "63cea788",
   "metadata": {},
   "outputs": [],
   "source": [
    "smote = SMOTE(random_state=42)"
   ]
  },
  {
   "cell_type": "markdown",
   "id": "ced35284",
   "metadata": {},
   "source": [
    "There were three predictor variables that were recorded: the number of vowels, the number of duplicate set (e.g. two 2 a's and 2 e's would count as 2 sets), and the highest number of duplicates in the word (e.g. if a word were to have 2 a's and 3 e's, the \"degree\" would be 3). The latter 2 of these variables have some dependence on eachother, given that as the degree increases, the number of possible duplicate sets decreases. As a resulted, I included an interaction term.\n",
    "\n",
    "Below is the full logistic regression model."
   ]
  },
  {
   "cell_type": "code",
   "execution_count": 5,
   "id": "d7ceb135",
   "metadata": {},
   "outputs": [
    {
     "name": "stdout",
     "output_type": "stream",
     "text": [
      "Optimization terminated successfully.\n",
      "         Current function value: 0.685181\n",
      "         Iterations 5\n",
      "                           Logit Regression Results                           \n",
      "==============================================================================\n",
      "Dep. Variable:              WinStatus   No. Observations:               410780\n",
      "Model:                          Logit   Df Residuals:                   410775\n",
      "Method:                           MLE   Df Model:                            4\n",
      "Date:                Mon, 17 Jul 2023   Pseudo R-squ.:                 0.01149\n",
      "Time:                        18:26:22   Log-Likelihood:            -2.8146e+05\n",
      "converged:                       True   LL-Null:                   -2.8473e+05\n",
      "Covariance Type:            nonrobust   LLR p-value:                     0.000\n",
      "=================================================================================================\n",
      "                                    coef    std err          z      P>|z|      [0.025      0.975]\n",
      "-------------------------------------------------------------------------------------------------\n",
      "const                             1.0800      0.036     30.218      0.000       1.010       1.150\n",
      "Vowels                            0.1746      0.005     33.840      0.000       0.164       0.185\n",
      "DuplicateSets                     0.0849      0.036      2.344      0.019       0.014       0.156\n",
      "DuplicateDegree                  -1.2331      0.034    -36.714      0.000      -1.299      -1.167\n",
      "DuplicateSets*DuplicateDegree     0.3706      0.013     27.660      0.000       0.344       0.397\n",
      "=================================================================================================\n"
     ]
    }
   ],
   "source": [
    "# Full Model\n",
    "\n",
    "data['DuplicateSets*DuplicateDegree'] = data['DuplicateSets'] * data['DuplicateDegree']\n",
    "XF = data[['Vowels', 'DuplicateSets', 'DuplicateDegree', 'DuplicateSets*DuplicateDegree']]\n",
    "XF = sm.add_constant(XF)\n",
    "Y = data['WinStatus']\n",
    "\n",
    "XF_R, Y_R = smote.fit_resample(XF, Y)\n",
    "\n",
    "fm = sm.Logit(Y_R, XF_R)\n",
    "fm_result = fm.fit()\n",
    "print(fm_result.summary())"
   ]
  },
  {
   "cell_type": "markdown",
   "id": "79cabd1c",
   "metadata": {},
   "source": [
    "And the reduced model."
   ]
  },
  {
   "cell_type": "code",
   "execution_count": 6,
   "id": "0c9c9062",
   "metadata": {},
   "outputs": [
    {
     "name": "stdout",
     "output_type": "stream",
     "text": [
      "Optimization terminated successfully.\n",
      "         Current function value: 0.691521\n",
      "         Iterations 4\n",
      "                           Logit Regression Results                           \n",
      "==============================================================================\n",
      "Dep. Variable:              WinStatus   No. Observations:               410780\n",
      "Model:                          Logit   Df Residuals:                   410778\n",
      "Method:                           MLE   Df Model:                            1\n",
      "Date:                Mon, 17 Jul 2023   Pseudo R-squ.:                0.002347\n",
      "Time:                        18:26:25   Log-Likelihood:            -2.8406e+05\n",
      "converged:                       True   LL-Null:                   -2.8473e+05\n",
      "Covariance Type:            nonrobust   LLR p-value:                1.408e-292\n",
      "==============================================================================\n",
      "                 coef    std err          z      P>|z|      [0.025      0.975]\n",
      "------------------------------------------------------------------------------\n",
      "const         -0.3252      0.009    -34.426      0.000      -0.344      -0.307\n",
      "Vowels         0.1863      0.005     36.476      0.000       0.176       0.196\n",
      "==============================================================================\n"
     ]
    }
   ],
   "source": [
    "# Reduced Model\n",
    "\n",
    "XR = data[['Vowels']]\n",
    "XR = sm.add_constant(XR)\n",
    "Y = data['WinStatus']\n",
    "\n",
    "XR_R, Y_R = smote.fit_resample(XR, Y)\n",
    "\n",
    "rm = sm.Logit(Y_R, XR_R)\n",
    "rm_result = rm.fit()\n",
    "print(rm_result.summary())"
   ]
  },
  {
   "cell_type": "markdown",
   "id": "16aebbdf",
   "metadata": {},
   "source": [
    "I wanted to see the significance of the duplicate set count and duplicate degree as a predictor for our model and performed a likelihood ratio test (H_0: There is no statistical significance between the 2 models; H_A: There is a statistical signficance between the 2 models."
   ]
  },
  {
   "cell_type": "code",
   "execution_count": 7,
   "id": "4af73657",
   "metadata": {},
   "outputs": [
    {
     "name": "stdout",
     "output_type": "stream",
     "text": [
      "Likelihood Ratio Test:\n",
      "-------------------------\n",
      "Test Statistic: 5208.10260890855\n",
      "Degrees of Freedom: 3.0\n",
      "P-value: 0.0\n"
     ]
    }
   ],
   "source": [
    "# Likelihood Ratio Test\n",
    "\n",
    "llr = -2 * (rm_result.llf - fm_result.llf)\n",
    "df = fm_result.df_model - rm_result.df_model\n",
    "p_value = chi2.sf(llr, df)\n",
    "\n",
    "print(\"Likelihood Ratio Test:\\n-------------------------\")\n",
    "print(\"Test Statistic:\", llr)\n",
    "print(\"Degrees of Freedom:\", df)\n",
    "print(\"P-value:\", p_value)"
   ]
  },
  {
   "cell_type": "markdown",
   "id": "726a2564",
   "metadata": {},
   "source": [
    "The result was a very small p-value, practically 0. As a result, we reject the null; the full model would be more appropiate to use.\n",
    "\n",
    "Now let's use the more machine-learning oriented sklearn library to continue our work on our regression model."
   ]
  },
  {
   "cell_type": "code",
   "execution_count": 8,
   "id": "606b1722",
   "metadata": {},
   "outputs": [],
   "source": [
    "from sklearn.metrics import *\n",
    "from sklearn.model_selection import train_test_split\n",
    "from sklearn.linear_model import LogisticRegression"
   ]
  },
  {
   "cell_type": "markdown",
   "id": "5f0a5a0b",
   "metadata": {},
   "source": [
    "Sklearn can also be used to build logistic regression models with some differences, mainly by setting regularization on by default. "
   ]
  },
  {
   "cell_type": "code",
   "execution_count": 9,
   "id": "5b99e064",
   "metadata": {},
   "outputs": [
    {
     "name": "stdout",
     "output_type": "stream",
     "text": [
      "Accuracy: 0.6625701943844492\n",
      "Precision: 0.9003017349761127\n",
      "Recall: 0.6970191020805451\n",
      "F1 Score: 0.785725062061966\n"
     ]
    }
   ],
   "source": [
    "X = data[['Vowels', 'DuplicateSets', 'DuplicateDegree', 'DuplicateSets*DuplicateDegree']]\n",
    "y = data['WinStatus']\n",
    "\n",
    "X_train, X_test, y_train, y_test = train_test_split(X, y, test_size=0.2, random_state=42)\n",
    "\n",
    "# SMOTE\n",
    "X_train_resampled, y_train_resampled = smote.fit_resample(X_train, y_train)\n",
    "\n",
    "model = LogisticRegression()\n",
    "model.fit(X_train_resampled, y_train_resampled)\n",
    "\n",
    "y_pred_probs = model.predict_proba(X_test)[:, 1]\n",
    "\n",
    "y_pred = model.predict(X_test)\n",
    "accuracy = accuracy_score(y_test, y_pred)\n",
    "confusion_mat = confusion_matrix(y_test, y_pred)\n",
    "precision = (confusion_mat[1][1])/(confusion_mat[1][1]+confusion_mat[0][1])\n",
    "recall = (confusion_mat[1][1])/(confusion_mat[1][1]+confusion_mat[1][0])\n",
    "f1 = 2*(precision*recall)/(precision+recall)\n",
    "\n",
    "print('Accuracy:', accuracy)\n",
    "print('Precision:', precision)\n",
    "print('Recall:', recall)\n",
    "print('F1 Score:', f1)"
   ]
  },
  {
   "cell_type": "markdown",
   "id": "59230b33",
   "metadata": {},
   "source": [
    "The accuracy of our model (66%) and recall (69%) are both a little less than acceptable. On the other hand, precision is very high at 90%. This would indicate that among although a proportion of predicted positives are true positives, many actual positives are not predicted as such. Part of this issue could be explained by the unbalanced nature of the data set, which overwhelmingly consisted of wins."
   ]
  },
  {
   "cell_type": "code",
   "execution_count": null,
   "id": "70a219d2",
   "metadata": {},
   "outputs": [],
   "source": []
  }
 ],
 "metadata": {
  "kernelspec": {
   "display_name": "Python 3 (ipykernel)",
   "language": "python",
   "name": "python3"
  },
  "language_info": {
   "codemirror_mode": {
    "name": "ipython",
    "version": 3
   },
   "file_extension": ".py",
   "mimetype": "text/x-python",
   "name": "python",
   "nbconvert_exporter": "python",
   "pygments_lexer": "ipython3",
   "version": "3.9.7"
  }
 },
 "nbformat": 4,
 "nbformat_minor": 5
}
