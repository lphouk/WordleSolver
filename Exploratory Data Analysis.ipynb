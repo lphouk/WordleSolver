{
 "cells": [
  {
   "cell_type": "markdown",
   "id": "2135ecb9",
   "metadata": {},
   "source": [
    "# Exploratory Data Analysis\n",
    "\n",
    "Here I just create a few plots and tables for EDA."
   ]
  },
  {
   "cell_type": "code",
   "execution_count": 1,
   "id": "90c2fc6d",
   "metadata": {},
   "outputs": [],
   "source": [
    "import numpy as np\n",
    "import matplotlib.pyplot as plt\n",
    "import pandas as pd\n",
    "import random"
   ]
  },
  {
   "cell_type": "markdown",
   "id": "123ad6b1",
   "metadata": {},
   "source": [
    "## Data set from Wordle Solver\n",
    "Table containing the stats of each wordle game played. The number of vowels, duplicate sets, and the duplicate degree refer to the target word being guessed."
   ]
  },
  {
   "cell_type": "code",
   "execution_count": 2,
   "id": "0dd47f01",
   "metadata": {},
   "outputs": [
    {
     "data": {
      "text/html": [
       "<div>\n",
       "<style scoped>\n",
       "    .dataframe tbody tr th:only-of-type {\n",
       "        vertical-align: middle;\n",
       "    }\n",
       "\n",
       "    .dataframe tbody tr th {\n",
       "        vertical-align: top;\n",
       "    }\n",
       "\n",
       "    .dataframe thead th {\n",
       "        text-align: right;\n",
       "    }\n",
       "</style>\n",
       "<table border=\"1\" class=\"dataframe\">\n",
       "  <thead>\n",
       "    <tr style=\"text-align: right;\">\n",
       "      <th></th>\n",
       "      <th>TargetWord</th>\n",
       "      <th>WinStatus</th>\n",
       "      <th>NumGuesses</th>\n",
       "      <th>Vowels</th>\n",
       "      <th>DuplicateSets</th>\n",
       "      <th>DuplicateDegree</th>\n",
       "    </tr>\n",
       "  </thead>\n",
       "  <tbody>\n",
       "    <tr>\n",
       "      <th>0</th>\n",
       "      <td>aback</td>\n",
       "      <td>1</td>\n",
       "      <td>4</td>\n",
       "      <td>2</td>\n",
       "      <td>1</td>\n",
       "      <td>2</td>\n",
       "    </tr>\n",
       "    <tr>\n",
       "      <th>1</th>\n",
       "      <td>aback</td>\n",
       "      <td>1</td>\n",
       "      <td>5</td>\n",
       "      <td>2</td>\n",
       "      <td>1</td>\n",
       "      <td>2</td>\n",
       "    </tr>\n",
       "    <tr>\n",
       "      <th>2</th>\n",
       "      <td>aback</td>\n",
       "      <td>1</td>\n",
       "      <td>5</td>\n",
       "      <td>2</td>\n",
       "      <td>1</td>\n",
       "      <td>2</td>\n",
       "    </tr>\n",
       "    <tr>\n",
       "      <th>3</th>\n",
       "      <td>aback</td>\n",
       "      <td>1</td>\n",
       "      <td>5</td>\n",
       "      <td>2</td>\n",
       "      <td>1</td>\n",
       "      <td>2</td>\n",
       "    </tr>\n",
       "    <tr>\n",
       "      <th>4</th>\n",
       "      <td>aback</td>\n",
       "      <td>1</td>\n",
       "      <td>6</td>\n",
       "      <td>2</td>\n",
       "      <td>1</td>\n",
       "      <td>2</td>\n",
       "    </tr>\n",
       "    <tr>\n",
       "      <th>...</th>\n",
       "      <td>...</td>\n",
       "      <td>...</td>\n",
       "      <td>...</td>\n",
       "      <td>...</td>\n",
       "      <td>...</td>\n",
       "      <td>...</td>\n",
       "    </tr>\n",
       "    <tr>\n",
       "      <th>231495</th>\n",
       "      <td>zonal</td>\n",
       "      <td>1</td>\n",
       "      <td>5</td>\n",
       "      <td>2</td>\n",
       "      <td>0</td>\n",
       "      <td>1</td>\n",
       "    </tr>\n",
       "    <tr>\n",
       "      <th>231496</th>\n",
       "      <td>zonal</td>\n",
       "      <td>1</td>\n",
       "      <td>5</td>\n",
       "      <td>2</td>\n",
       "      <td>0</td>\n",
       "      <td>1</td>\n",
       "    </tr>\n",
       "    <tr>\n",
       "      <th>231497</th>\n",
       "      <td>zonal</td>\n",
       "      <td>1</td>\n",
       "      <td>5</td>\n",
       "      <td>2</td>\n",
       "      <td>0</td>\n",
       "      <td>1</td>\n",
       "    </tr>\n",
       "    <tr>\n",
       "      <th>231498</th>\n",
       "      <td>zonal</td>\n",
       "      <td>1</td>\n",
       "      <td>4</td>\n",
       "      <td>2</td>\n",
       "      <td>0</td>\n",
       "      <td>1</td>\n",
       "    </tr>\n",
       "    <tr>\n",
       "      <th>231499</th>\n",
       "      <td>zonal</td>\n",
       "      <td>1</td>\n",
       "      <td>5</td>\n",
       "      <td>2</td>\n",
       "      <td>0</td>\n",
       "      <td>1</td>\n",
       "    </tr>\n",
       "  </tbody>\n",
       "</table>\n",
       "<p>231500 rows × 6 columns</p>\n",
       "</div>"
      ],
      "text/plain": [
       "       TargetWord  WinStatus  NumGuesses  Vowels  DuplicateSets  \\\n",
       "0           aback          1           4       2              1   \n",
       "1           aback          1           5       2              1   \n",
       "2           aback          1           5       2              1   \n",
       "3           aback          1           5       2              1   \n",
       "4           aback          1           6       2              1   \n",
       "...           ...        ...         ...     ...            ...   \n",
       "231495      zonal          1           5       2              0   \n",
       "231496      zonal          1           5       2              0   \n",
       "231497      zonal          1           5       2              0   \n",
       "231498      zonal          1           4       2              0   \n",
       "231499      zonal          1           5       2              0   \n",
       "\n",
       "        DuplicateDegree  \n",
       "0                     2  \n",
       "1                     2  \n",
       "2                     2  \n",
       "3                     2  \n",
       "4                     2  \n",
       "...                 ...  \n",
       "231495                1  \n",
       "231496                1  \n",
       "231497                1  \n",
       "231498                1  \n",
       "231499                1  \n",
       "\n",
       "[231500 rows x 6 columns]"
      ]
     },
     "execution_count": 2,
     "metadata": {},
     "output_type": "execute_result"
    }
   ],
   "source": [
    "# Raw Data\n",
    "data = pd.read_csv('wordleData.csv')\n",
    "data"
   ]
  },
  {
   "cell_type": "markdown",
   "id": "f69ea3f2",
   "metadata": {},
   "source": [
    "## Baseline Characteristics\n",
    "Overall, the solver performed rather well, winning 88% of it's games and taking 4.7 guesses on average."
   ]
  },
  {
   "cell_type": "code",
   "execution_count": 3,
   "id": "423fceed",
   "metadata": {},
   "outputs": [
    {
     "name": "stdout",
     "output_type": "stream",
     "text": [
      "           WinStatus     NumGuesses         Vowels  DuplicateSets  \\\n",
      "count  231500.000000  231500.000000  231500.000000  231500.000000   \n",
      "mean        0.887214       4.775810       1.772786       0.340389   \n",
      "std         0.316332       1.013787       0.625067       0.508152   \n",
      "min         0.000000       1.000000       0.000000       0.000000   \n",
      "25%         1.000000       4.000000       1.000000       0.000000   \n",
      "50%         1.000000       5.000000       2.000000       0.000000   \n",
      "75%         1.000000       6.000000       2.000000       1.000000   \n",
      "max         1.000000       6.000000       4.000000       2.000000   \n",
      "\n",
      "       DuplicateDegree  \n",
      "count    231500.000000  \n",
      "mean          1.349028  \n",
      "std           0.528247  \n",
      "min           1.000000  \n",
      "25%           1.000000  \n",
      "50%           1.000000  \n",
      "75%           2.000000  \n",
      "max           4.000000  \n"
     ]
    }
   ],
   "source": [
    "print(data.describe())"
   ]
  },
  {
   "cell_type": "markdown",
   "id": "442657e7",
   "metadata": {},
   "source": [
    "### Means (Grouped by target word)\n",
    "I grouped the data by target word and aggregated the rows by mean."
   ]
  },
  {
   "cell_type": "code",
   "execution_count": 4,
   "id": "d0b42727",
   "metadata": {},
   "outputs": [
    {
     "data": {
      "text/html": [
       "<div>\n",
       "<style scoped>\n",
       "    .dataframe tbody tr th:only-of-type {\n",
       "        vertical-align: middle;\n",
       "    }\n",
       "\n",
       "    .dataframe tbody tr th {\n",
       "        vertical-align: top;\n",
       "    }\n",
       "\n",
       "    .dataframe thead th {\n",
       "        text-align: right;\n",
       "    }\n",
       "</style>\n",
       "<table border=\"1\" class=\"dataframe\">\n",
       "  <thead>\n",
       "    <tr style=\"text-align: right;\">\n",
       "      <th></th>\n",
       "      <th>WinStatus</th>\n",
       "      <th>NumGuesses</th>\n",
       "      <th>Vowels</th>\n",
       "      <th>DuplicateSets</th>\n",
       "      <th>DuplicateDegree</th>\n",
       "    </tr>\n",
       "    <tr>\n",
       "      <th>TargetWord</th>\n",
       "      <th></th>\n",
       "      <th></th>\n",
       "      <th></th>\n",
       "      <th></th>\n",
       "      <th></th>\n",
       "    </tr>\n",
       "  </thead>\n",
       "  <tbody>\n",
       "    <tr>\n",
       "      <th>aback</th>\n",
       "      <td>0.93</td>\n",
       "      <td>4.76</td>\n",
       "      <td>2.0</td>\n",
       "      <td>1.0</td>\n",
       "      <td>2.0</td>\n",
       "    </tr>\n",
       "    <tr>\n",
       "      <th>abase</th>\n",
       "      <td>0.95</td>\n",
       "      <td>4.78</td>\n",
       "      <td>3.0</td>\n",
       "      <td>1.0</td>\n",
       "      <td>2.0</td>\n",
       "    </tr>\n",
       "    <tr>\n",
       "      <th>abate</th>\n",
       "      <td>0.82</td>\n",
       "      <td>4.91</td>\n",
       "      <td>3.0</td>\n",
       "      <td>1.0</td>\n",
       "      <td>2.0</td>\n",
       "    </tr>\n",
       "    <tr>\n",
       "      <th>abbey</th>\n",
       "      <td>0.99</td>\n",
       "      <td>4.67</td>\n",
       "      <td>2.0</td>\n",
       "      <td>1.0</td>\n",
       "      <td>2.0</td>\n",
       "    </tr>\n",
       "    <tr>\n",
       "      <th>abbot</th>\n",
       "      <td>0.95</td>\n",
       "      <td>4.81</td>\n",
       "      <td>2.0</td>\n",
       "      <td>1.0</td>\n",
       "      <td>2.0</td>\n",
       "    </tr>\n",
       "    <tr>\n",
       "      <th>...</th>\n",
       "      <td>...</td>\n",
       "      <td>...</td>\n",
       "      <td>...</td>\n",
       "      <td>...</td>\n",
       "      <td>...</td>\n",
       "    </tr>\n",
       "    <tr>\n",
       "      <th>young</th>\n",
       "      <td>0.97</td>\n",
       "      <td>4.17</td>\n",
       "      <td>2.0</td>\n",
       "      <td>0.0</td>\n",
       "      <td>1.0</td>\n",
       "    </tr>\n",
       "    <tr>\n",
       "      <th>youth</th>\n",
       "      <td>0.91</td>\n",
       "      <td>4.55</td>\n",
       "      <td>2.0</td>\n",
       "      <td>0.0</td>\n",
       "      <td>1.0</td>\n",
       "    </tr>\n",
       "    <tr>\n",
       "      <th>zebra</th>\n",
       "      <td>1.00</td>\n",
       "      <td>4.47</td>\n",
       "      <td>2.0</td>\n",
       "      <td>0.0</td>\n",
       "      <td>1.0</td>\n",
       "    </tr>\n",
       "    <tr>\n",
       "      <th>zesty</th>\n",
       "      <td>0.62</td>\n",
       "      <td>5.30</td>\n",
       "      <td>1.0</td>\n",
       "      <td>0.0</td>\n",
       "      <td>1.0</td>\n",
       "    </tr>\n",
       "    <tr>\n",
       "      <th>zonal</th>\n",
       "      <td>0.83</td>\n",
       "      <td>5.07</td>\n",
       "      <td>2.0</td>\n",
       "      <td>0.0</td>\n",
       "      <td>1.0</td>\n",
       "    </tr>\n",
       "  </tbody>\n",
       "</table>\n",
       "<p>2315 rows × 5 columns</p>\n",
       "</div>"
      ],
      "text/plain": [
       "            WinStatus  NumGuesses  Vowels  DuplicateSets  DuplicateDegree\n",
       "TargetWord                                                               \n",
       "aback            0.93        4.76     2.0            1.0              2.0\n",
       "abase            0.95        4.78     3.0            1.0              2.0\n",
       "abate            0.82        4.91     3.0            1.0              2.0\n",
       "abbey            0.99        4.67     2.0            1.0              2.0\n",
       "abbot            0.95        4.81     2.0            1.0              2.0\n",
       "...               ...         ...     ...            ...              ...\n",
       "young            0.97        4.17     2.0            0.0              1.0\n",
       "youth            0.91        4.55     2.0            0.0              1.0\n",
       "zebra            1.00        4.47     2.0            0.0              1.0\n",
       "zesty            0.62        5.30     1.0            0.0              1.0\n",
       "zonal            0.83        5.07     2.0            0.0              1.0\n",
       "\n",
       "[2315 rows x 5 columns]"
      ]
     },
     "execution_count": 4,
     "metadata": {},
     "output_type": "execute_result"
    }
   ],
   "source": [
    "grouped = data.groupby('TargetWord')\n",
    "means = grouped.aggregate('mean')\n",
    "means"
   ]
  },
  {
   "cell_type": "markdown",
   "id": "66eae63d",
   "metadata": {},
   "source": [
    "### Distribution of Win Rates (By Target Word)\n",
    "Interestingly, we see that the frequency grows with a higher win rate, indicating that the solver successfully solves most of it's games."
   ]
  },
  {
   "cell_type": "code",
   "execution_count": 5,
   "id": "53e91c39",
   "metadata": {},
   "outputs": [
    {
     "data": {
      "text/plain": [
       "Text(0.5, 1.0, 'Distribution of Win Rates (By Target Word)')"
      ]
     },
     "execution_count": 5,
     "metadata": {},
     "output_type": "execute_result"
    },
    {
     "data": {
      "image/png": "[encoded data removed]",
      "text/plain": [
       "<Figure size 432x288 with 1 Axes>"
      ]
     },
     "metadata": {
      "needs_background": "light"
     },
     "output_type": "display_data"
    }
   ],
   "source": [
    "plt.hist(means.WinStatus, bins=30)\n",
    "plt.xlabel('Win Rate')\n",
    "plt.ylabel('Frequency')\n",
    "plt.title('Distribution of Win Rates (By Target Word)')"
   ]
  },
  {
   "cell_type": "markdown",
   "id": "ac9deb9d",
   "metadata": {},
   "source": [
    "### Average of Number of Guesses (By Target Word)"
   ]
  },
  {
   "cell_type": "code",
   "execution_count": 41,
   "id": "51d459f6",
   "metadata": {},
   "outputs": [
    {
     "name": "stdout",
     "output_type": "stream",
     "text": [
      "Mean:  4.78\n",
      "Standard Deviation:  0.9714326186420481\n",
      "Median:  4.76\n",
      "IQR: 1.0\n"
     ]
    },
    {
     "data": {
      "image/png": "[encoded data removed]",
      "text/plain": [
       "<Figure size 432x288 with 1 Axes>"
      ]
     },
     "metadata": {
      "needs_background": "light"
     },
     "output_type": "display_data"
    }
   ],
   "source": [
    "plt.hist(means.NumGuesses, bins=25)\n",
    "plt.xlabel('Average Number of Guesses')\n",
    "plt.ylabel('Frequency')\n",
    "plt.title('Distribution of Average Number of Guesses')\n",
    "\n",
    "mean = np.round(np.mean(means.NumGuesses), 2)\n",
    "sd = np.std(wins.NumGuesses)\n",
    "median = np.median(means.NumGuesses)\n",
    "Q1 = np.percentile(wins.NumGuesses, 25)\n",
    "Q3 = np.percentile(wins.NumGuesses, 75)\n",
    "iqr = Q3 - Q1\n",
    "\n",
    "print('Mean: ', mean)\n",
    "print('Standard Deviation: ', sd)\n",
    "print('Median: ', median)\n",
    "print('IQR:', iqr)"
   ]
  },
  {
   "cell_type": "markdown",
   "id": "8e4d409e",
   "metadata": {},
   "source": [
    "### Average Number of Guesses vs Win Rate (Grouped by Target Word)\n",
    "\n",
    "The scatter plot would suggest that words with a higher win rate would take less guesses on average. This isn't a very useful insight though: if the solver was take more than six guesses, it would lose the game. Words that have more of these losses would therefore have a higher average number of guesses."
   ]
  },
  {
   "cell_type": "code",
   "execution_count": 32,
   "id": "2007b5b1",
   "metadata": {},
   "outputs": [
    {
     "data": {
      "text/plain": [
       "Text(0.5, 1.0, 'Average Number of Guesses vs Win Rate')"
      ]
     },
     "execution_count": 32,
     "metadata": {},
     "output_type": "execute_result"
    },
    {
     "data": {
      "image/png": "[encoded data removed]",
      "text/plain": [
       "<Figure size 432x288 with 1 Axes>"
      ]
     },
     "metadata": {
      "needs_background": "light"
     },
     "output_type": "display_data"
    }
   ],
   "source": [
    "plt.scatter(means.NumGuesses, means.WinStatus)\n",
    "plt.xlabel('Average Number of Guesses')\n",
    "plt.ylabel('Win Rate')\n",
    "plt.title('Average Number of Guesses vs Win Rate')"
   ]
  },
  {
   "cell_type": "markdown",
   "id": "d5670624",
   "metadata": {},
   "source": [
    "## Wins vs Losses\n",
    "I split the sample into 2 different groups to analyze if there were any statistical differences between the two. I compared the 2 populations on the different variables individually."
   ]
  },
  {
   "cell_type": "code",
   "execution_count": 7,
   "id": "739ceaba",
   "metadata": {},
   "outputs": [],
   "source": [
    "# Separate the groups into wins and losses\n",
    "\n",
    "wins = data[data['WinStatus'] == 1]\n",
    "losses = data[data['WinStatus'] == 0]"
   ]
  },
  {
   "cell_type": "markdown",
   "id": "2d3afdeb",
   "metadata": {},
   "source": [
    "### Distribution of Vowel Count\n",
    "\n",
    "Created 2 histograms (density) to see the general shape of the distributions with respect to vowel count. At a glance there did not appear to much difference between the 2 distributions, both being normal."
   ]
  },
  {
   "cell_type": "code",
   "execution_count": 12,
   "id": "2ff9275b",
   "metadata": {},
   "outputs": [
    {
     "data": {
      "text/plain": [
       "Text(0.5, 1.0, 'Losses')"
      ]
     },
     "execution_count": 12,
     "metadata": {},
     "output_type": "execute_result"
    },
    {
     "data": {
      "image/png": "[encoded data removed]",
      "text/plain": [
       "<Figure size 576x432 with 2 Axes>"
      ]
     },
     "metadata": {
      "needs_background": "light"
     },
     "output_type": "display_data"
    }
   ],
   "source": [
    "binNum = 5 # Number of bins\n",
    "\n",
    "fig, (win_dist, loss_dist) = plt.subplots(2, 1, figsize=(8, 6), sharex=True)\n",
    "\n",
    "win_dist.hist(wins.Vowels, bins=binNum, color='blue', alpha=0.7, density=True)\n",
    "win_dist.set_ylabel('Frequency')\n",
    "win_dist.set_title('Wins')\n",
    "\n",
    "loss_dist.hist(losses.Vowels, bins=binNum, color='red', alpha=0.7, density=True)\n",
    "loss_dist.set_xlabel('Number of Vowels')\n",
    "loss_dist.set_ylabel('Frequency')\n",
    "loss_dist.set_title('Losses')"
   ]
  },
  {
   "cell_type": "markdown",
   "id": "b2532947",
   "metadata": {},
   "source": [
    "### Distribution of Duplicate Set Count\n",
    "\n",
    "In both samples, we observe a strong right skew."
   ]
  },
  {
   "cell_type": "code",
   "execution_count": 17,
   "id": "0f0ce929",
   "metadata": {},
   "outputs": [
    {
     "data": {
      "text/plain": [
       "Text(0.5, 1.0, 'Losses')"
      ]
     },
     "execution_count": 17,
     "metadata": {},
     "output_type": "execute_result"
    },
    {
     "data": {
      "image/png": "[encoded data removed]",
      "text/plain": [
       "<Figure size 576x432 with 2 Axes>"
      ]
     },
     "metadata": {
      "needs_background": "light"
     },
     "output_type": "display_data"
    }
   ],
   "source": [
    "# Created 2 histograms (density) to see the general shape of the distributions with respect to vowel count.\n",
    "\n",
    "binNum = 3 # Number of bins\n",
    "\n",
    "fig, (win_dist, loss_dist) = plt.subplots(2, 1, figsize=(8, 6), sharex=True)\n",
    "\n",
    "win_dist.hist(wins.DuplicateSets, bins=binNum, color='blue', alpha=0.7, density=True)\n",
    "win_dist.set_ylabel('Frequency')\n",
    "win_dist.set_title('Wins')\n",
    "\n",
    "loss_dist.hist(losses.DuplicateSets, bins=binNum, color='red', alpha=0.7, density=True)\n",
    "loss_dist.set_xlabel('Number of Duplicate Sets')\n",
    "loss_dist.set_ylabel('Frequency')\n",
    "loss_dist.set_title('Losses')"
   ]
  },
  {
   "cell_type": "markdown",
   "id": "faba25d0",
   "metadata": {},
   "source": [
    "### Distribution of Duplicate Degrees\n",
    "\n",
    "Again, a right skew is observed in both groups."
   ]
  },
  {
   "cell_type": "code",
   "execution_count": 18,
   "id": "84ca64c0",
   "metadata": {},
   "outputs": [
    {
     "data": {
      "text/plain": [
       "Text(0.5, 1.0, 'Losses')"
      ]
     },
     "execution_count": 18,
     "metadata": {},
     "output_type": "execute_result"
    },
    {
     "data": {
      "image/png": "[encoded data removed]",
      "text/plain": [
       "<Figure size 576x432 with 2 Axes>"
      ]
     },
     "metadata": {
      "needs_background": "light"
     },
     "output_type": "display_data"
    }
   ],
   "source": [
    "# Created 2 histograms (density) to see the general shape of the distributions with respect to vowel count.\n",
    "\n",
    "binNum = 3 # Number of bins\n",
    "\n",
    "fig, (win_dist, loss_dist) = plt.subplots(2, 1, figsize=(8, 6), sharex=True)\n",
    "\n",
    "win_dist.hist(wins.DuplicateDegree, bins=binNum, color='blue', alpha=0.7, density=True)\n",
    "win_dist.set_ylabel('Frequency')\n",
    "win_dist.set_title('Wins')\n",
    "\n",
    "loss_dist.hist(losses.DuplicateDegree, bins=binNum, color='red', alpha=0.7, density=True)\n",
    "loss_dist.set_xlabel('Number of Duplicate Sets')\n",
    "loss_dist.set_ylabel('Frequency')\n",
    "loss_dist.set_title('Losses')"
   ]
  },
  {
   "cell_type": "markdown",
   "id": "d53d430b",
   "metadata": {},
   "source": [
    "## Wins Only\n",
    "\n",
    "There were a few characterisitcs I was curious about within the group of wins itself."
   ]
  },
  {
   "cell_type": "markdown",
   "id": "3bc98c32",
   "metadata": {},
   "source": [
    "### Distribution of Average Number of Guesses\n",
    "\n",
    "The distribution was had a somewhat noticeable left skew. In addition, I computed the mean, which was at 4.62 guesses."
   ]
  },
  {
   "cell_type": "code",
   "execution_count": 42,
   "id": "44140930",
   "metadata": {},
   "outputs": [
    {
     "name": "stdout",
     "output_type": "stream",
     "text": [
      "Mean:  4.620185987633283\n",
      "Standard Deviation:  0.9714326186420481\n",
      "Median:  5.0\n",
      "IQR: 1.0\n"
     ]
    },
    {
     "data": {
      "image/png": "[encoded data removed]",
      "text/plain": [
       "<Figure size 432x288 with 1 Axes>"
      ]
     },
     "metadata": {
      "needs_background": "light"
     },
     "output_type": "display_data"
    }
   ],
   "source": [
    "plt.hist(wins.NumGuesses, bins=6)\n",
    "plt.xlabel('Number of Guesses')\n",
    "plt.ylabel('Frequency')\n",
    "plt.title('Distribution of Number of Guesses')\n",
    "\n",
    "win_guess_mean = np.mean(wins.NumGuesses) # Mean\n",
    "win_guess_sd = np.std(wins.NumGuesses) # Standard Deviation\n",
    "win_guess_median = np.median(wins.NumGuesses) # Median\n",
    "Q1 = np.percentile(wins.NumGuesses, 25)\n",
    "Q3 = np.percentile(wins.NumGuesses, 75)\n",
    "win_guess_iqr = Q3 - Q1 # IQR\n",
    "\n",
    "print('Mean: ', win_guess_mean)\n",
    "print('Standard Deviation: ', win_guess_sd)\n",
    "print('Median: ', win_guess_median)\n",
    "print('IQR:', win_guess_iqr)"
   ]
  },
  {
   "cell_type": "code",
   "execution_count": null,
   "id": "b7604a56",
   "metadata": {},
   "outputs": [],
   "source": []
  }
 ],
 "metadata": {
  "kernelspec": {
   "display_name": "Python 3 (ipykernel)",
   "language": "python",
   "name": "python3"
  },
  "language_info": {
   "codemirror_mode": {
    "name": "ipython",
    "version": 3
   },
   "file_extension": ".py",
   "mimetype": "text/x-python",
   "name": "python",
   "nbconvert_exporter": "python",
   "pygments_lexer": "ipython3",
   "version": "3.9.7"
  }
 },
 "nbformat": 4,
 "nbformat_minor": 5
}
